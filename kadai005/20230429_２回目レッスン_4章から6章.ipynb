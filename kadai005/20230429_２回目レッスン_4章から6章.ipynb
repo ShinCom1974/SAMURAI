{
  "nbformat": 4,
  "nbformat_minor": 0,
  "metadata": {
    "colab": {
      "provenance": []
    },
    "kernelspec": {
      "name": "python3",
      "display_name": "Python 3"
    },
    "language_info": {
      "name": "python"
    }
  },
  "cells": [
    {
      "cell_type": "markdown",
      "source": [
        "## 2023/4/29 アジェンダ\n",
        "### 4章データの扱い（データの型）\n",
        "### 5章 変数を理解しよう\n",
        "### 6章 配列（リスト・タプル・セット）を理解しよう\n",
        "可能なら次もやります。\n",
        "#### 7章 連想配列（ディクショナリ）を理解しよう\n",
        "#### 8章 条件分岐のif文を理解しよう"
      ],
      "metadata": {
        "id": "MgULPNlya4pX"
      }
    },
    {
      "cell_type": "markdown",
      "source": [
        "# 4章データの扱い（データの型）\n",
        "\n",
        "- 文字列型\n",
        "- 整数型\n",
        "- 浮動小数点型\n",
        "- 論理型\n",
        "- 日付型（**発展**）"
      ],
      "metadata": {
        "id": "kvmSI5nzH5Qk"
      }
    },
    {
      "cell_type": "code",
      "execution_count": null,
      "metadata": {
        "id": "bMIPHD0eHO7D"
      },
      "outputs": [],
      "source": []
    },
    {
      "cell_type": "code",
      "source": [
        "# 文字型\n",
        "\n",
        "print('こんにちは')\n",
        "print(\"今日はいい天気ですね\")\n"
      ],
      "metadata": {
        "colab": {
          "base_uri": "https://localhost:8080/"
        },
        "id": "-ejVyaN2H49V",
        "outputId": "d8b84388-da0e-4386-f2d7-cc963e4ac1d9"
      },
      "execution_count": null,
      "outputs": [
        {
          "output_type": "stream",
          "name": "stdout",
          "text": [
            "こんにちは\n",
            "今日はいい天気ですね\n"
          ]
        }
      ]
    },
    {
      "cell_type": "markdown",
      "source": [
        "シングルクオーテーション、ダブルクォーテーションどちらでもいいですが、文章中にシングルクオーテーションを使うときなどは注意が必要"
      ],
      "metadata": {
        "id": "udkpKfVtI1n5"
      }
    },
    {
      "cell_type": "code",
      "source": [
        "print(\"私は'おはようと'と言った\")"
      ],
      "metadata": {
        "colab": {
          "base_uri": "https://localhost:8080/"
        },
        "id": "Nzn_Yv8DHx82",
        "outputId": "fcce3f8a-f980-402c-c060-f18474f4a99a"
      },
      "execution_count": null,
      "outputs": [
        {
          "output_type": "stream",
          "name": "stdout",
          "text": [
            "私は'おはようと'と言った\n"
          ]
        }
      ]
    },
    {
      "cell_type": "code",
      "source": [
        "print('私は'おはようと'と言った')"
      ],
      "metadata": {
        "colab": {
          "base_uri": "https://localhost:8080/",
          "height": 138
        },
        "id": "S6c1dPWMIUWq",
        "outputId": "68b3b688-b444-4c71-83dd-e06fb200f200"
      },
      "execution_count": null,
      "outputs": [
        {
          "output_type": "error",
          "ename": "SyntaxError",
          "evalue": "ignored",
          "traceback": [
            "\u001b[0;36m  File \u001b[0;32m\"<ipython-input-20-3ac00b442751>\"\u001b[0;36m, line \u001b[0;32m1\u001b[0m\n\u001b[0;31m    print('私は'おはようと'と言った')\u001b[0m\n\u001b[0m          ^\u001b[0m\n\u001b[0;31mSyntaxError\u001b[0m\u001b[0;31m:\u001b[0m invalid syntax. Perhaps you forgot a comma?\n"
          ]
        }
      ]
    },
    {
      "cell_type": "markdown",
      "source": [
        "<発展> エスケープシーケンス"
      ],
      "metadata": {
        "id": "NlBwUhi-JUkn"
      }
    },
    {
      "cell_type": "code",
      "source": [
        "print('私は\\'おはようと\\'と言った')"
      ],
      "metadata": {
        "colab": {
          "base_uri": "https://localhost:8080/"
        },
        "id": "hjPmO9OhJQfb",
        "outputId": "e763b3eb-7c6d-4970-91e2-cf85767c9e58"
      },
      "execution_count": null,
      "outputs": [
        {
          "output_type": "stream",
          "name": "stdout",
          "text": [
            "私は'おはようと'と言った\n"
          ]
        }
      ]
    },
    {
      "cell_type": "code",
      "source": [],
      "metadata": {
        "id": "ciG7NvYYJHVe"
      },
      "execution_count": null,
      "outputs": []
    },
    {
      "cell_type": "code",
      "source": [
        "# 整数型\n",
        "print(100)"
      ],
      "metadata": {
        "id": "8FwoS0XcJmTc"
      },
      "execution_count": null,
      "outputs": []
    },
    {
      "cell_type": "code",
      "source": [
        "# 小数浮動点\n",
        "print(0.1)\n"
      ],
      "metadata": {
        "id": "_-nV8E4gKMyD"
      },
      "execution_count": null,
      "outputs": []
    },
    {
      "cell_type": "markdown",
      "source": [
        "## 論理型"
      ],
      "metadata": {
        "id": "0WZOQBoMa_Aq"
      }
    },
    {
      "cell_type": "code",
      "source": [
        "# 論理型\n",
        "print(True)\n",
        "print(False)"
      ],
      "metadata": {
        "colab": {
          "base_uri": "https://localhost:8080/"
        },
        "id": "A5HHAUOMKM5u",
        "outputId": "cef6f1d1-9790-4065-d914-885cd4d7396e"
      },
      "execution_count": null,
      "outputs": [
        {
          "output_type": "stream",
          "name": "stdout",
          "text": [
            "True\n",
            "False\n"
          ]
        }
      ]
    },
    {
      "cell_type": "code",
      "source": [
        "print(1 == 1)\n",
        "print(1 == 0)\n",
        "\n",
        "print(\"a\" == \"a\")\n",
        "print(\"a\" == \"b\")"
      ],
      "metadata": {
        "colab": {
          "base_uri": "https://localhost:8080/"
        },
        "id": "QDUX6iD7KdNB",
        "outputId": "4423e26f-24f3-4dbf-8b7d-20cc1e84f007"
      },
      "execution_count": null,
      "outputs": [
        {
          "output_type": "stream",
          "name": "stdout",
          "text": [
            "True\n",
            "False\n",
            "True\n",
            "False\n"
          ]
        }
      ]
    },
    {
      "cell_type": "markdown",
      "source": [
        "## 四則演算"
      ],
      "metadata": {
        "id": "fTuitUwbKtf2"
      }
    },
    {
      "cell_type": "code",
      "source": [
        "print(45 + 18)\n",
        "print(30 - 12)\n",
        "print(15 * 6)\n",
        "print(30 / 3)\n",
        "print(45 % 8)\n"
      ],
      "metadata": {
        "colab": {
          "base_uri": "https://localhost:8080/"
        },
        "id": "7ll6jrG5KdUH",
        "outputId": "7dd0da81-e820-447c-8015-be06db2362e3"
      },
      "execution_count": null,
      "outputs": [
        {
          "output_type": "stream",
          "name": "stdout",
          "text": [
            "63\n",
            "18\n",
            "90\n",
            "10.0\n",
            "5\n"
          ]
        }
      ]
    },
    {
      "cell_type": "code",
      "source": [
        "import math\n",
        "print(45 + 1.8)\n",
        "print(3 - 1.2)\n",
        "print(15 * 0.6)\n",
        "print(3 / 0.3)\n",
        "print(round(45 % 0.8,2))\n"
      ],
      "metadata": {
        "colab": {
          "base_uri": "https://localhost:8080/"
        },
        "id": "1jbuE-dxKyAX",
        "outputId": "bee6e067-b375-4687-b9c9-ffee5b590297"
      },
      "execution_count": null,
      "outputs": [
        {
          "output_type": "stream",
          "name": "stdout",
          "text": [
            "46.8\n",
            "1.8\n",
            "9.0\n",
            "10.0\n",
            "0.2\n"
          ]
        }
      ]
    },
    {
      "cell_type": "code",
      "source": [],
      "metadata": {
        "id": "14Fgtxo1KyF2"
      },
      "execution_count": null,
      "outputs": []
    },
    {
      "cell_type": "code",
      "source": [],
      "metadata": {
        "id": "Ajug_bJ0ckbH"
      },
      "execution_count": null,
      "outputs": []
    },
    {
      "cell_type": "markdown",
      "source": [
        "【Python入門】小数点の操作を切り上げからroundまで完全理解！  \n",
        "https://www.sejuku.net/blog/73255\n"
      ],
      "metadata": {
        "id": "DpFSdzifck6g"
      }
    },
    {
      "cell_type": "markdown",
      "source": [
        "## 文字列の連結"
      ],
      "metadata": {
        "id": "M7AB4h0vagSS"
      }
    },
    {
      "cell_type": "code",
      "source": [
        "print(\"今日の天気は\" + \"晴れ\")\n",
        "print(\"今日の天気は\" \"曇り\")"
      ],
      "metadata": {
        "id": "h2LwzPqMai2t"
      },
      "execution_count": null,
      "outputs": []
    },
    {
      "cell_type": "code",
      "source": [
        "# これは実行するとエラー\n",
        "print(\"降水確率\" + 50 + \"％\" )"
      ],
      "metadata": {
        "id": "xQ0HLRNDaqGL"
      },
      "execution_count": null,
      "outputs": []
    },
    {
      "cell_type": "code",
      "source": [
        "# これはOK\n",
        "print(\"降水確率\" + str(50) + \"％\" )"
      ],
      "metadata": {
        "id": "IhTCW-3naxQM"
      },
      "execution_count": null,
      "outputs": []
    },
    {
      "cell_type": "code",
      "source": [
        "print(\"晴れ\" * 5)\n",
        "print(\"晴れ\" + \"晴れ\" + \"晴れ\" + \"晴れ\" + \"晴れ\")"
      ],
      "metadata": {
        "id": "ysYr2_G3a53Z"
      },
      "execution_count": null,
      "outputs": []
    },
    {
      "cell_type": "markdown",
      "source": [
        "## 発展 文字列を扱うときによく使う関数"
      ],
      "metadata": {
        "id": "4DCEIg6xdib7"
      }
    },
    {
      "cell_type": "code",
      "source": [
        "sentence = \"This is a pen. That is a note.\"\n",
        "\n",
        "# 文字を分割してリスト（6章で出てくる）にする\n",
        "# ここではスペースに分割\n",
        "print( sentence.split(\" \") )\n",
        "\n",
        "directory = \"C:/mydocument/test\"\n",
        "print( directory.split(\"/\")[2] )\n",
        "\n",
        "# 文字列の中に、特定の文字が存在するかを確認し論理型で返す\n",
        "print( \"pen\" in sentence)\n",
        "print( \"pens\" in sentence)\n",
        "\n",
        "# 文字列の中の特定の文字を置き換える\n",
        "print( sentence.replace(\"pen\", \"pencil\") )\n",
        "\n",
        "# 文字列の長さを求める。スペースも1文字とカウントされる。\n",
        "print(len(\"This is a pen\"))\n",
        "# スペースを除いた文字数\n",
        "print(len(\"This is a pen.\".replace(\" \",\"\")))\n",
        "\n"
      ],
      "metadata": {
        "colab": {
          "base_uri": "https://localhost:8080/"
        },
        "id": "7nZGmKICdpxE",
        "outputId": "688cf1e4-57b8-49fb-9e2f-b7bfda1dfedc"
      },
      "execution_count": null,
      "outputs": [
        {
          "output_type": "stream",
          "name": "stdout",
          "text": [
            "['This', 'is', 'a', 'pen.', 'That', 'is', 'a', 'note.']\n",
            "test\n",
            "True\n",
            "False\n",
            "This is a pencil. That is a note.\n",
            "13\n",
            "11\n"
          ]
        }
      ]
    },
    {
      "cell_type": "markdown",
      "source": [
        "## 発展　日付型\n",
        "これは16章で詳細にレッスンします。ここでは、簡単にやります。"
      ],
      "metadata": {
        "id": "0cOxTOHDqBrW"
      }
    },
    {
      "cell_type": "code",
      "source": [
        "import datetime"
      ],
      "metadata": {
        "id": "jkGrbsyNKyJ3"
      },
      "execution_count": null,
      "outputs": []
    },
    {
      "cell_type": "code",
      "source": [
        "print(datetime.datetime.today())\n",
        "print(datetime.datetime(2023,1,1))\n",
        "print(datetime.date(2023,1,1))"
      ],
      "metadata": {
        "colab": {
          "base_uri": "https://localhost:8080/"
        },
        "id": "QAgQnwlLKyM6",
        "outputId": "ec6fc637-2685-4adf-d3b0-e5b2dfb2c854"
      },
      "execution_count": null,
      "outputs": [
        {
          "output_type": "stream",
          "name": "stdout",
          "text": [
            "2023-04-29 10:26:11.851935\n",
            "2023-01-01 00:00:00\n",
            "2023-01-01\n"
          ]
        }
      ]
    },
    {
      "cell_type": "code",
      "source": [
        "print(type(datetime.datetime.today()))\n",
        "print(type(datetime.datetime(2023,1,1)))\n",
        "print(type(datetime.date(2023,1,1)))"
      ],
      "metadata": {
        "colab": {
          "base_uri": "https://localhost:8080/"
        },
        "id": "dZtKcRh9MXUY",
        "outputId": "f8d551f5-3abf-46f1-f595-be94803b4b97"
      },
      "execution_count": null,
      "outputs": [
        {
          "output_type": "stream",
          "name": "stdout",
          "text": [
            "<class 'datetime.datetime'>\n",
            "<class 'datetime.datetime'>\n",
            "<class 'datetime.date'>\n"
          ]
        }
      ]
    },
    {
      "cell_type": "code",
      "source": [
        "datetime.date(2023,4,29) + datetime.timedelta(days=3)"
      ],
      "metadata": {
        "colab": {
          "base_uri": "https://localhost:8080/"
        },
        "id": "fOwHdBIPNEPm",
        "outputId": "3967e209-8238-4336-ddea-5dcf720988cc"
      },
      "execution_count": null,
      "outputs": [
        {
          "output_type": "execute_result",
          "data": {
            "text/plain": [
              "datetime.date(2023, 5, 2)"
            ]
          },
          "metadata": {},
          "execution_count": 30
        }
      ]
    },
    {
      "cell_type": "markdown",
      "source": [],
      "metadata": {
        "id": "iz7qPa0bbK6P"
      }
    },
    {
      "cell_type": "markdown",
      "source": [
        "# 5章 変数を理解しよう"
      ],
      "metadata": {
        "id": "O48IvHCLbLD3"
      }
    },
    {
      "cell_type": "code",
      "source": [
        "user_name = \"侍太郎\""
      ],
      "metadata": {
        "id": "CqW_mqHabTqX"
      },
      "execution_count": null,
      "outputs": []
    },
    {
      "cell_type": "code",
      "source": [
        "# これはエラー　宣言などはひつようない\n",
        "user_name2\n",
        "user_name2 = \"侍太郎\""
      ],
      "metadata": {
        "id": "Iky087CmbpNw"
      },
      "execution_count": null,
      "outputs": []
    },
    {
      "cell_type": "code",
      "source": [
        "user_name = \"侍太郎\"\n",
        "print(user_name)"
      ],
      "metadata": {
        "id": "oR8cIJxMbTvF"
      },
      "execution_count": null,
      "outputs": []
    },
    {
      "cell_type": "code",
      "source": [
        "# 変数の中身を入れ替える\n",
        "user_name = \"侍太郎\"\n",
        "print(user_name)\n",
        "\n",
        "user_name = \"侍花子\"\n",
        "print(user_name)"
      ],
      "metadata": {
        "id": "4IFZcxc1bT2q"
      },
      "execution_count": null,
      "outputs": []
    },
    {
      "cell_type": "markdown",
      "source": [
        "## 変数を使って連結"
      ],
      "metadata": {
        "id": "GILEVjU_cDyd"
      }
    },
    {
      "cell_type": "code",
      "source": [
        "# 整数型と浮動小数点型の足し算\n",
        "number1 = 5\n",
        "number2 = 2.5\n",
        "print(number1 + number2)\n",
        "\n",
        "# 文字列型と文字列型の連結\n",
        "last_name  = \"侍\"\n",
        "first_name = \"太郎\"\n",
        "print(last_name + first_name)\n"
      ],
      "metadata": {
        "id": "o9x9B0-SbT7C"
      },
      "execution_count": null,
      "outputs": []
    },
    {
      "cell_type": "code",
      "source": [
        "last_name   = \"侍\"\n",
        "first_name  = \"太郎\"\n",
        "sister_name = \"花子\"\n",
        "\n",
        "# 3つの変数を文字列内に埋め込んで表示\n",
        "print(f\"私の名前は{last_name}{first_name}です。妹の名前は{sister_name}です。\")\n"
      ],
      "metadata": {
        "colab": {
          "base_uri": "https://localhost:8080/"
        },
        "id": "uSNssBQdcOTH",
        "outputId": "d381b8af-80e0-4b48-c5d1-7487c55bef1e"
      },
      "execution_count": null,
      "outputs": [
        {
          "output_type": "stream",
          "name": "stdout",
          "text": [
            "私の名前は侍太郎です。妹の名前は花子です。\n"
          ]
        }
      ]
    },
    {
      "cell_type": "code",
      "source": [
        "# formatを使った書き方。こちらを好む人もいます。\n",
        "print(\"私の名前は{0}{1}です。妹の名前は{2}です。\".format(last_name, first_name, sister_name) )"
      ],
      "metadata": {
        "colab": {
          "base_uri": "https://localhost:8080/"
        },
        "id": "JNw3Hu4BcRDQ",
        "outputId": "20f8626b-fc0e-4242-d98c-6bc80281bbd2"
      },
      "execution_count": null,
      "outputs": [
        {
          "output_type": "stream",
          "name": "stdout",
          "text": [
            "私の名前は侍太郎です。妹の名前は花子です。\n"
          ]
        }
      ]
    },
    {
      "cell_type": "code",
      "source": [],
      "metadata": {
        "id": "K2aZHBcZexlv"
      },
      "execution_count": null,
      "outputs": []
    },
    {
      "cell_type": "markdown",
      "source": [
        "# 6章 配列（リスト・タプル・セット）を理解しよう"
      ],
      "metadata": {
        "id": "XTtjcqWcexu5"
      }
    },
    {
      "cell_type": "code",
      "source": [
        "user_names = [\"侍太郎\", \"侍一郎\", \"侍二郎\", \"侍三郎\", \"侍四郎\"]\n",
        "\n",
        "# 2番目の要素である「侍一郎」という文字列だけを取り出して表示する\n",
        "print(user_names[1])"
      ],
      "metadata": {
        "id": "EwyaKHU_ezzE"
      },
      "execution_count": null,
      "outputs": []
    },
    {
      "cell_type": "code",
      "source": [],
      "metadata": {
        "id": "IXrSiJ-xez-4"
      },
      "execution_count": null,
      "outputs": []
    },
    {
      "cell_type": "code",
      "source": [],
      "metadata": {
        "id": "L36qgNO5e0Cf"
      },
      "execution_count": null,
      "outputs": []
    },
    {
      "cell_type": "markdown",
      "source": [
        "更新"
      ],
      "metadata": {
        "id": "dNv0OEA9f3j6"
      }
    },
    {
      "cell_type": "code",
      "source": [
        "user_names = [\"侍太郎\", \"侍一郎\", \"侍二郎\", \"侍三郎\", \"侍四郎\"]\n",
        "\n",
        "# 2番目の要素を更新する\n",
        "user_names[1] = \"侍花子\"\n",
        "print(user_names)"
      ],
      "metadata": {
        "colab": {
          "base_uri": "https://localhost:8080/"
        },
        "id": "1BkzeDGef36O",
        "outputId": "60c7dbf4-34eb-45e1-d1b0-2dd52546c777"
      },
      "execution_count": null,
      "outputs": [
        {
          "output_type": "stream",
          "name": "stdout",
          "text": [
            "['侍太郎', '侍花子', '侍二郎', '侍三郎', '侍四郎']\n"
          ]
        }
      ]
    },
    {
      "cell_type": "code",
      "source": [],
      "metadata": {
        "id": "xdspmw8Yf4AI"
      },
      "execution_count": null,
      "outputs": []
    },
    {
      "cell_type": "markdown",
      "source": [
        "追加と削除"
      ],
      "metadata": {
        "id": "AqfWBTm1gGJP"
      }
    },
    {
      "cell_type": "code",
      "source": [
        "user_names = [\"侍太郎\", \"侍一郎\", \"侍二郎\", \"侍三郎\", \"侍四郎\"]\n",
        "\n",
        "# 6番目の要素を追加する\n",
        "user_names.append(\"侍五郎\")\n",
        "print(user_names)\n",
        "\n",
        "# 3番目の要素を削除する\n",
        "user_names.pop(2) # 0始まりのため、3番目のインデックスは2\n",
        "print(user_names)"
      ],
      "metadata": {
        "id": "poc-23JFf4E8"
      },
      "execution_count": null,
      "outputs": []
    },
    {
      "cell_type": "code",
      "source": [],
      "metadata": {
        "id": "_XWI8YHogFBz"
      },
      "execution_count": null,
      "outputs": []
    },
    {
      "cell_type": "markdown",
      "source": [
        "参考　配列の要素数"
      ],
      "metadata": {
        "id": "MqUqHabk0ICn"
      }
    },
    {
      "cell_type": "code",
      "source": [
        "print(len(user_names))"
      ],
      "metadata": {
        "id": "aRZe9BsrgFb3",
        "colab": {
          "base_uri": "https://localhost:8080/"
        },
        "outputId": "c02a0f1d-baa5-4533-9ea8-7092e149710c"
      },
      "execution_count": null,
      "outputs": [
        {
          "output_type": "stream",
          "name": "stdout",
          "text": [
            "5\n"
          ]
        }
      ]
    },
    {
      "cell_type": "markdown",
      "source": [
        "## 発展 多重配列\n",
        "ステレオ録音された音、あるいは画像などは多次元配列の数値として扱われます"
      ],
      "metadata": {
        "id": "HB8oYnAFzovL"
      }
    },
    {
      "cell_type": "code",
      "source": [
        "mlt_list = [ [0,1,2,3,4], [5,6,7,8,9] ]\n",
        "mlt_list"
      ],
      "metadata": {
        "id": "KzlIhod1fYMF",
        "colab": {
          "base_uri": "https://localhost:8080/"
        },
        "outputId": "ede3b444-58f8-4b71-a113-678f221fb59a"
      },
      "execution_count": null,
      "outputs": [
        {
          "output_type": "execute_result",
          "data": {
            "text/plain": [
              "[[0, 1, 2, 3, 4], [5, 6, 7, 8, 9]]"
            ]
          },
          "metadata": {},
          "execution_count": 36
        }
      ]
    },
    {
      "cell_type": "code",
      "source": [
        "print(len(user_names))\n",
        "print(len(mlt_list)) #2つの配列が入っているという情報が出てくる"
      ],
      "metadata": {
        "colab": {
          "base_uri": "https://localhost:8080/"
        },
        "id": "4jTC23qfz2q5",
        "outputId": "cb752cbb-1baa-440e-f8f0-82a03192c7de"
      },
      "execution_count": null,
      "outputs": [
        {
          "output_type": "stream",
          "name": "stdout",
          "text": [
            "5\n",
            "2\n"
          ]
        }
      ]
    },
    {
      "cell_type": "code",
      "source": [
        "print(mlt_list[0]) #多重配列のうち、最初の配列を取り出す\n",
        "print(len(mlt_list[0]))"
      ],
      "metadata": {
        "colab": {
          "base_uri": "https://localhost:8080/"
        },
        "id": "MmxJmiqNz24z",
        "outputId": "76567b9b-6f6d-446e-b57a-8cc15f90c4a8"
      },
      "execution_count": null,
      "outputs": [
        {
          "output_type": "stream",
          "name": "stdout",
          "text": [
            "[0, 1, 2, 3, 4]\n",
            "5\n"
          ]
        }
      ]
    },
    {
      "cell_type": "markdown",
      "source": [
        "タプル"
      ],
      "metadata": {
        "id": "WCaGBPyygcD2"
      }
    },
    {
      "cell_type": "code",
      "source": [
        "country_names = (\"日本\", \"アメリカ\", \"イギリス\", \"フランス\" )\n",
        "\n",
        "# 3番目の要素である「イギリス」という文字列だけを取り出す\n",
        "print(country_names[2])"
      ],
      "metadata": {
        "id": "l7KCfzSWger9"
      },
      "execution_count": null,
      "outputs": []
    },
    {
      "cell_type": "code",
      "source": [],
      "metadata": {
        "id": "bKoyFCOjsEMO"
      },
      "execution_count": null,
      "outputs": []
    },
    {
      "cell_type": "code",
      "source": [
        "# これはエラー\n",
        "country_names[2] = \"ドイツ\""
      ],
      "metadata": {
        "id": "GkIuBnAlgevI"
      },
      "execution_count": null,
      "outputs": []
    },
    {
      "cell_type": "code",
      "source": [],
      "metadata": {
        "id": "_e1TRwpNgezD"
      },
      "execution_count": null,
      "outputs": []
    },
    {
      "cell_type": "markdown",
      "source": [
        "## セットの作り方・使い方"
      ],
      "metadata": {
        "id": "1aG46XEviMrm"
      }
    },
    {
      "cell_type": "code",
      "source": [
        "prime_numbers = {2, 3, 5, 7}\n",
        "prime_numbers"
      ],
      "metadata": {
        "id": "E6Kb3vPziOZd"
      },
      "execution_count": null,
      "outputs": []
    },
    {
      "cell_type": "code",
      "source": [],
      "metadata": {
        "id": "DoNLbhmQi1ek"
      },
      "execution_count": null,
      "outputs": []
    },
    {
      "cell_type": "code",
      "source": [
        "# 1～10までに含まれる素数のセット\n",
        "prime_numbers = {2, 3, 5, 7}\n",
        "\n",
        "# セット全体を表示\n",
        "print(prime_numbers)\n",
        "\n",
        "prime_numbers.add(11) # 11をセットに追加\n",
        "print(prime_numbers)\n",
        "\n",
        "prime_numbers.remove(3) # セットから3を削除\n",
        "print(prime_numbers)"
      ],
      "metadata": {
        "id": "qmX6e7t_i1kV"
      },
      "execution_count": null,
      "outputs": []
    },
    {
      "cell_type": "markdown",
      "source": [
        "# 宿題"
      ],
      "metadata": {
        "id": "ArEpX0-vJnAT"
      }
    },
    {
      "cell_type": "code",
      "source": [],
      "metadata": {
        "id": "UbF4K2rTJoTU"
      },
      "execution_count": null,
      "outputs": []
    },
    {
      "cell_type": "markdown",
      "source": [
        "ダブルクォーテーションで囲って、print(\"xxx\")で表示した結果、以下のように出力されるようプログラムを書いてください。  \n",
        "私は\"おはよう\"とあいさつしました"
      ],
      "metadata": {
        "id": "mzB7KG44J3M1"
      }
    },
    {
      "cell_type": "code",
      "source": [],
      "metadata": {
        "id": "8sCgwc_hKBp5"
      },
      "execution_count": null,
      "outputs": []
    },
    {
      "cell_type": "code",
      "source": [],
      "metadata": {
        "id": "XGzIbmvP9lNC"
      },
      "execution_count": null,
      "outputs": []
    },
    {
      "cell_type": "markdown",
      "source": [
        "台形の面積\n",
        "上底5、下底4、高さ3の台形の面積を求めてください。"
      ],
      "metadata": {
        "id": "NuoZ3yWc9mKl"
      }
    },
    {
      "cell_type": "markdown",
      "source": [
        "45÷8の余りは5でした(45 % 8)。それでは、45÷8の商をPythonで求めるにはどうすればいいでしょうか。調べて、実際に確認してみてください。"
      ],
      "metadata": {
        "id": "o-kiAdazLKEM"
      }
    },
    {
      "cell_type": "markdown",
      "source": [
        "ある整数が与えられた時、偶数か奇数かをPythonで判定するにはどうすればよいでしょうか。"
      ],
      "metadata": {
        "id": "osuCLBVwN5MJ"
      }
    },
    {
      "cell_type": "markdown",
      "source": [
        "半径5の円の面積を求めてください。円周率は3.14としてください。  \n",
        "ただし、2乗を使ってください。`5*5*3.14`とはしないでください。"
      ],
      "metadata": {
        "id": "Gf0Ib8WALm3t"
      }
    },
    {
      "cell_type": "markdown",
      "source": [
        "Pythonで2の20乗を求めてください。"
      ],
      "metadata": {
        "id": "UknV_W2bUkwE"
      }
    },
    {
      "cell_type": "code",
      "source": [
        "2**20"
      ],
      "metadata": {
        "id": "3b1g8k-FNiIN"
      },
      "execution_count": null,
      "outputs": []
    },
    {
      "cell_type": "code",
      "source": [
        "\"2\" + \"1\""
      ],
      "metadata": {
        "id": "lzz3kd3RVAjT"
      },
      "execution_count": null,
      "outputs": []
    },
    {
      "cell_type": "markdown",
      "source": [
        "数字の1と2を文字列型として受け取る場合を考えます。つまり、\"1\"と\"2\"を受け取ります。  \n",
        "1) \"1\" + \"2\" を実行して結果を確認してください。  \n",
        "2) \"1\"と\"2\"を足して3という結果をPythonで求めるにはどうすればよいか、方法を調べてみてください。"
      ],
      "metadata": {
        "id": "OVJFV0sZVXUg"
      }
    },
    {
      "cell_type": "code",
      "source": [
        "\"2\" + \"1\""
      ],
      "metadata": {
        "id": "H_oe54c5VUGX"
      },
      "execution_count": null,
      "outputs": []
    },
    {
      "cell_type": "code",
      "source": [
        "\"2\" + \"1\"\n",
        "\n",
        "int(\"2\") +int( \"1\")"
      ],
      "metadata": {
        "id": "M0OzZSB9VAsX"
      },
      "execution_count": null,
      "outputs": []
    },
    {
      "cell_type": "markdown",
      "source": [
        "2023/4/29の500日後は何年何月何日ですか"
      ],
      "metadata": {
        "id": "4MKYYvyCNira"
      }
    },
    {
      "cell_type": "markdown",
      "source": [
        "2022/1/1から2023/4/30までの日数を求めてください。"
      ],
      "metadata": {
        "id": "nFWaVIO3NV4E"
      }
    },
    {
      "cell_type": "code",
      "source": [],
      "metadata": {
        "id": "lR3nTp43LvvZ"
      },
      "execution_count": null,
      "outputs": []
    },
    {
      "cell_type": "markdown",
      "source": [
        "formatを使って、\"私の名前は侍太郎です。妹の名前は花子です。\"と出力してください。"
      ],
      "metadata": {
        "id": "AZkR7tUUdDos"
      }
    },
    {
      "cell_type": "markdown",
      "source": [
        "\"This is a pen\"をすべて大文字にする方法を調べてみてください。"
      ],
      "metadata": {
        "id": "axbCYp3Tdbs3"
      }
    },
    {
      "cell_type": "code",
      "source": [
        "\"This is a pen.\".upper()"
      ],
      "metadata": {
        "id": "RWXpmi4YYBR2"
      },
      "execution_count": null,
      "outputs": []
    },
    {
      "cell_type": "code",
      "source": [],
      "metadata": {
        "id": "HXG7mBF8dd0c"
      },
      "execution_count": null,
      "outputs": []
    },
    {
      "cell_type": "markdown",
      "source": [
        "変数aに文字列'12'を代入し，変数bに文字列'13'を代入し，これらを数字と見なした時の和を出力してください．  \n",
        "a = '12'  \n",
        "b = '13'  \n",
        "以下のコードを埋めてください。"
      ],
      "metadata": {
        "id": "sYck4Vu8eDFA"
      }
    },
    {
      "cell_type": "markdown",
      "source": [
        "老人と海の一節です。アルファベット\"f\"と\"s\"がそれぞれ何個あるか、Pythonを使って数える方法を調べてみてください。"
      ],
      "metadata": {
        "id": "pxk9zW__eV4U"
      }
    },
    {
      "cell_type": "code",
      "source": [
        "print( \"He was an old man who fished alone in a skiff in the Gulf Stream and he had gone eighty-four days now without taking a fish.\".count(\"f\") )\n",
        "print( \"He was an old man who fished alone in a skiff in the Gulf Stream and he had gone eighty-four days now without taking a fish.\".count(\"s\") )"
      ],
      "metadata": {
        "id": "ue7HsqTVYSAR"
      },
      "execution_count": null,
      "outputs": []
    },
    {
      "cell_type": "markdown",
      "source": [],
      "metadata": {
        "id": "Jhr-iyGNgQ_3"
      }
    },
    {
      "cell_type": "markdown",
      "source": [
        "6.4 リストを使ってみようをやってみてください"
      ],
      "metadata": {
        "id": "POaIShPngREV"
      }
    },
    {
      "cell_type": "markdown",
      "source": [
        "6.6 タプルを使ってみようをやってみてください"
      ],
      "metadata": {
        "id": "wNbnyNJhgRID"
      }
    },
    {
      "cell_type": "markdown",
      "source": [
        "user_names = [\"侍太郎\", \"侍一郎\", \"侍二郎\", \"侍三郎\", \"侍四郎\"]を定義します。  \n",
        "1)user_names[5]を使わずに、最後の要素\"侍四郎\"を抽出する方法を調べてみてください。  \n",
        "2)['侍一郎', '侍二郎']と表示するにはどうすればいいでしょうか。  \n",
        "3)['侍太郎', '侍二郎', '侍四郎']  \n",
        "4)['侍四郎', '侍三郎', '侍二郎', '侍一郎', '侍太郎']"
      ],
      "metadata": {
        "id": "JxPchfJRrg6q"
      }
    },
    {
      "cell_type": "code",
      "source": [
        "user_names = [\"侍太郎\", \"侍一郎\", \"侍二郎\", \"侍三郎\", \"侍四郎\"]\n",
        "print(user_names[-1])\n",
        "print(user_names[1:3])\n",
        "print(user_names[::4])\n",
        "print(user_names[::-1])"
      ],
      "metadata": {
        "colab": {
          "base_uri": "https://localhost:8080/"
        },
        "id": "eEbgd07Fqtdd",
        "outputId": "2ec8a391-e26e-4720-a07c-05413054cc1d"
      },
      "execution_count": null,
      "outputs": [
        {
          "output_type": "stream",
          "name": "stdout",
          "text": [
            "侍四郎\n",
            "['侍一郎', '侍二郎']\n",
            "['侍太郎', '侍四郎']\n",
            "['侍四郎', '侍三郎', '侍二郎', '侍一郎', '侍太郎']\n"
          ]
        }
      ]
    },
    {
      "cell_type": "markdown",
      "source": [
        "多重配列\n",
        "mlt_list = [[0,1,2,3,4], [5,6,7,8,9]]  \n",
        "1) [5,6,7,8,9]を抽出してください  \n",
        "2) 8を抽出してください"
      ],
      "metadata": {
        "id": "x_k2wVjE1ghv"
      }
    },
    {
      "cell_type": "code",
      "source": [
        "# 値渡し\n",
        "a =  \"侍二郎\"\n",
        "b = a\n",
        "\n",
        "a = \"サム\"\n",
        "\n",
        "print(\"a\",a)\n",
        "print(\"b\",b)"
      ],
      "metadata": {
        "colab": {
          "base_uri": "https://localhost:8080/"
        },
        "id": "4RxtPe9Pb5O7",
        "outputId": "d92a7cc1-6130-40bb-e8ac-22f8bc273f18"
      },
      "execution_count": null,
      "outputs": [
        {
          "output_type": "stream",
          "name": "stdout",
          "text": [
            "a サム\n",
            "b 侍二郎\n"
          ]
        }
      ]
    },
    {
      "cell_type": "code",
      "source": [
        "# これは少し難しいです。調べてみて、わからなければ質問してください。必要なら次回レッスンで説明します\n",
        "# いわゆる”値渡し”と”参照渡し”という概念です\n",
        "\n",
        "\n",
        "\n",
        "# 次のコードを実行してみてください。user_namesは最後どのようになっていますか？\n",
        "user_names = [\"侍太郎\", \"侍一郎\", \"侍二郎\", \"侍三郎\", \"侍四郎\"]\n",
        "user_names2 = user_names\n",
        "user_names2[2] = \"サム\"\n",
        "\n",
        "print(\"user_names\", user_names)\n",
        "print(\"user_names2\", user_names2)\n",
        "\n",
        "# user_namesを最初に定義した[\"侍太郎\", \"侍一郎\", \"侍二郎\", \"侍三郎\", \"侍四郎\"]のまま、user_names2の3番目要素だけ\"サム\"に変えるにはどうすればいいでしょうか？"
      ],
      "metadata": {
        "colab": {
          "base_uri": "https://localhost:8080/"
        },
        "id": "B_4DC58Zgvud",
        "outputId": "7a054fae-1d8f-431a-e9b7-4202df04f554"
      },
      "execution_count": null,
      "outputs": [
        {
          "output_type": "stream",
          "name": "stdout",
          "text": [
            "user_names ['侍太郎', '侍一郎', 'サム', '侍三郎', '侍四郎']\n",
            "user_names2 ['侍太郎', '侍一郎', 'サム', '侍三郎', '侍四郎']\n"
          ]
        }
      ]
    },
    {
      "cell_type": "code",
      "source": [],
      "metadata": {
        "id": "enCo55Dahedf"
      },
      "execution_count": null,
      "outputs": []
    },
    {
      "cell_type": "markdown",
      "source": [
        "[2,3,4,2,5,4,7,9,7]  \n",
        "このリストから重複を削除して、重複がないリストを作成してください"
      ],
      "metadata": {
        "id": "D-Qu6sslijxE"
      }
    },
    {
      "cell_type": "code",
      "source": [],
      "metadata": {
        "id": "184vcPMLikFP"
      },
      "execution_count": null,
      "outputs": []
    },
    {
      "cell_type": "markdown",
      "source": [
        "{\"A\", \"B\", \"C\", \"D\"}  \n",
        " {\"A\", \"C\", \"D\", \"E\"}\n",
        "両方のセットに共通して存在する要素を抽出する方法を調べてみてください。  \n",
        " また、片方のセットにしかない要素を抽出する方法も調べてみてください。"
      ],
      "metadata": {
        "id": "6bchacMUi8wj"
      }
    },
    {
      "cell_type": "markdown",
      "source": [
        "{\"A\", \"B\", \"C\", \"D\"}　と　{\"A\", \"C\", \"D\", \"E\"} を合わせた {'A', 'B', 'C', 'D', 'E'}というセットを作る方法を調べてみてください。"
      ],
      "metadata": {
        "id": "pJwzWz-Ifyv0"
      }
    },
    {
      "cell_type": "code",
      "source": [
        "{\"A\", \"B\", \"C\", \"D\"}.intersection({\"A\", \"C\", \"D\", \"E\"} )"
      ],
      "metadata": {
        "colab": {
          "base_uri": "https://localhost:8080/"
        },
        "id": "xzPcQxFkjbYK",
        "outputId": "39495b9a-745f-4532-8615-6821c90be9c6"
      },
      "execution_count": null,
      "outputs": [
        {
          "output_type": "execute_result",
          "data": {
            "text/plain": [
              "{'A', 'C', 'D'}"
            ]
          },
          "metadata": {},
          "execution_count": 43
        }
      ]
    },
    {
      "cell_type": "code",
      "source": [
        "{\"A\", \"B\", \"C\", \"D\"} - {\"A\", \"C\", \"D\", \"E\"}"
      ],
      "metadata": {
        "colab": {
          "base_uri": "https://localhost:8080/"
        },
        "id": "pPBHr_-0jf8M",
        "outputId": "de81d73d-db2f-45db-b641-b62ec365747c"
      },
      "execution_count": null,
      "outputs": [
        {
          "output_type": "execute_result",
          "data": {
            "text/plain": [
              "{'B'}"
            ]
          },
          "metadata": {},
          "execution_count": 44
        }
      ]
    },
    {
      "cell_type": "code",
      "source": [
        "{\"A\", \"C\", \"D\", \"E\"} - {\"A\", \"B\", \"C\", \"D\"}"
      ],
      "metadata": {
        "colab": {
          "base_uri": "https://localhost:8080/"
        },
        "id": "n4rUt7xjjz8q",
        "outputId": "00141ce6-52c9-4fff-e6ad-373650e7a133"
      },
      "execution_count": null,
      "outputs": [
        {
          "output_type": "execute_result",
          "data": {
            "text/plain": [
              "{'E'}"
            ]
          },
          "metadata": {},
          "execution_count": 45
        }
      ]
    },
    {
      "cell_type": "code",
      "source": [
        "({\"A\", \"B\", \"C\", \"D\"} - {\"A\", \"C\", \"D\", \"E\"}).union({\"A\", \"C\", \"D\", \"E\"} - {\"A\", \"B\", \"C\", \"D\"})"
      ],
      "metadata": {
        "colab": {
          "base_uri": "https://localhost:8080/"
        },
        "id": "0geiGBN8j3E2",
        "outputId": "893fde58-9715-4389-c721-c508f6e2812d"
      },
      "execution_count": null,
      "outputs": [
        {
          "output_type": "execute_result",
          "data": {
            "text/plain": [
              "{'B', 'E'}"
            ]
          },
          "metadata": {},
          "execution_count": 46
        }
      ]
    },
    {
      "cell_type": "code",
      "source": [
        "list( set([0,1,2,3]).intersection(set([1,2,4])) )"
      ],
      "metadata": {
        "id": "uvU9kFy7j6aA",
        "colab": {
          "base_uri": "https://localhost:8080/"
        },
        "outputId": "1e73cad2-f390-44b4-90d2-654bff511c0f"
      },
      "execution_count": null,
      "outputs": [
        {
          "output_type": "execute_result",
          "data": {
            "text/plain": [
              "[1, 2]"
            ]
          },
          "metadata": {},
          "execution_count": 50
        }
      ]
    },
    {
      "cell_type": "code",
      "source": [
        "{\"A\", \"B\", \"C\", \"D\"}.union( {\"A\", \"C\", \"D\", \"E\"} )"
      ],
      "metadata": {
        "id": "gFXWWBPffx_8"
      },
      "execution_count": null,
      "outputs": []
    },
    {
      "cell_type": "code",
      "source": [],
      "metadata": {
        "id": "LbcaDSmXf8Ge"
      },
      "execution_count": null,
      "outputs": []
    }
  ]
}